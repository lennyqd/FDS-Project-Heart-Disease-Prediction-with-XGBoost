{
 "cells": [
  {
   "cell_type": "markdown",
   "id": "166955e5",
   "metadata": {},
   "source": [
    "# Heart Disease Prediction with XGBoost"
   ]
  },
  {
   "cell_type": "markdown",
   "id": "3a30186f",
   "metadata": {},
   "source": [
    "<b>Introduction: </b>\n",
    "Heart disease is a significant health concern in the U.S., impacting people from diverse backgrounds. Several factors, including high blood pressure, cholesterol, smoking, diabetes, obesity, sedentary lifestyles, and alcohol use, contribute to its risk. Detecting individuals prone to or developing heart disease is crucial for effective prevention and treatment. Enter machine learning, a powerful tool capable of analyzing data and uncovering patterns to predict disease outcomes. Among these methods, XGBoost stands out. It excels in handling smaller and unbalanced datasets, showcasing remarkable accuracy in heart disease prediction. Fundamentally, XGBoost employs boosting—integrating numerous weak models to form a robust one. By using decision trees and enhancing them through gradient-based optimization, XGBoost ensures improved model fit. Its speed and precision come from features like regularization, parallel processing, and adeptly handling missing values. Versatile in both regression and classification, XGBoost has found widespread application across various fields and competitions."
   ]
  },
  {
   "cell_type": "markdown",
   "id": "a58eb28b",
   "metadata": {},
   "source": [
    "__DATASET/Background__\n",
    "\n",
    "The information used in this project is derived from the Behavioral Risk Factor Surveillance System (BRFSS), a nationwide survey conducted by the Centers for Disease Control and Prevention (CDC). The primary aim of BRFSS is to gather insights into the health behaviors and conditions of adults in the United States. Covering diverse topics such as smoking, alcohol use, physical activity, diet, chronic diseases, and preventive services, BRFSS stands as the largest and longest-running health survey globally. Since 1984, over 400,000 interviews have been completed each year. The dataset comprises 40 variables, reflecting the richness of health-related information. It's worth noting that the data has undergone cleaning procedures. Below, you'll find a straightforward exploratory data analysis (EDA) of the dataset.\n",
    "\n",
    "*Insert Graphs Below*"
   ]
  },
  {
   "cell_type": "code",
   "execution_count": null,
   "id": "06254cba",
   "metadata": {},
   "outputs": [],
   "source": []
  },
  {
   "cell_type": "markdown",
   "id": "25ff315a",
   "metadata": {},
   "source": [
    "__Outcome/Results__\n",
    "\n",
    "*Insert Graphs Below*"
   ]
  },
  {
   "cell_type": "code",
   "execution_count": null,
   "id": "4f0a527d",
   "metadata": {},
   "outputs": [],
   "source": []
  },
  {
   "cell_type": "markdown",
   "id": "2591b4bb",
   "metadata": {},
   "source": [
    "References:\n",
    "\n",
    "guest_blog. “Introduction to XGBoost Algorithm in Machine Learning.” Analytics Vidhya, 30 Mar. 2023, www.analyticsvidhya.com/blog/2018/09/an-end-to-end-guide-to-understand-the-math-behind-xgboost/. \n",
    "\n",
    "Hachcham, Aymane. “XGBoost: Everything You Need to Know.” Neptune.Ai, 11 Aug. 2023, neptune.ai/blog/xgboost-everything-you-need-to-know. \n",
    "\n",
    "“What Is Xgboost? An Introduction to XGBoost Algorithm in Machine Learning: Simplilearn.” Simplilearn.Com, Simplilearn, 7 Nov. 2023, www.simplilearn.com/what-is-xgboost-algorithm-in-machine-learning-article. \n",
    "\n",
    "“What Is XGBoost?” NVIDIA Data Science Glossary, www.nvidia.com/en-us/glossary/data-science/xgboost/. \n",
    "\n",
    "“XGBoost.” GeeksforGeeks, GeeksforGeeks, 6 Feb. 2023, www.geeksforgeeks.org/xgboost/#. "
   ]
  }
 ],
 "metadata": {
  "kernelspec": {
   "display_name": "Python 3 (ipykernel)",
   "language": "python",
   "name": "python3"
  },
  "language_info": {
   "codemirror_mode": {
    "name": "ipython",
    "version": 3
   },
   "file_extension": ".py",
   "mimetype": "text/x-python",
   "name": "python",
   "nbconvert_exporter": "python",
   "pygments_lexer": "ipython3",
   "version": "3.11.4"
  }
 },
 "nbformat": 4,
 "nbformat_minor": 5
}
